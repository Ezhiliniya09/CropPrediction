{
 "cells": [
  {
   "cell_type": "code",
   "execution_count": 1,
   "id": "7728c41b",
   "metadata": {
    "execution": {
     "iopub.execute_input": "2021-11-23T18:19:13.383901Z",
     "iopub.status.busy": "2021-11-23T18:19:13.382209Z",
     "iopub.status.idle": "2021-11-23T18:19:15.497064Z",
     "shell.execute_reply": "2021-11-23T18:19:15.496275Z",
     "shell.execute_reply.started": "2021-11-23T17:44:00.654788Z"
    },
    "papermill": {
     "duration": 2.1569,
     "end_time": "2021-11-23T18:19:15.497216",
     "exception": false,
     "start_time": "2021-11-23T18:19:13.340316",
     "status": "completed"
    },
    "tags": []
   },
   "outputs": [],
   "source": [
    "from __future__ import print_function\n",
    "import pandas as pd # data analysis\n",
    "import numpy as np # linear algebra\n",
    "\n",
    "#import libraries for data visualization\n",
    "import matplotlib.pyplot as plt\n",
    "%matplotlib inline\n",
    "import seaborn as sns\n",
    "import plotly.graph_objects as go\n",
    "import plotly.express as px\n",
    "from plotly.subplots import make_subplots\n",
    "\n",
    "\n",
    "from sklearn.metrics import classification_report\n",
    "from sklearn import metrics\n",
    "from sklearn import tree\n",
    "from sklearn.model_selection import cross_val_score\n",
    "import warnings\n",
    "warnings.filterwarnings('ignore')"
   ]
  },
  {
   "cell_type": "code",
   "execution_count": 2,
   "id": "f51600ee",
   "metadata": {
    "execution": {
     "iopub.execute_input": "2021-11-23T18:19:15.727914Z",
     "iopub.status.busy": "2021-11-23T18:19:15.727019Z",
     "iopub.status.idle": "2021-11-23T18:19:15.763440Z",
     "shell.execute_reply": "2021-11-23T18:19:15.762819Z",
     "shell.execute_reply.started": "2021-11-23T17:44:00.79065Z"
    },
    "papermill": {
     "duration": 0.077069,
     "end_time": "2021-11-23T18:19:15.763577",
     "exception": false,
     "start_time": "2021-11-23T18:19:15.686508",
     "status": "completed"
    },
    "tags": []
   },
   "outputs": [
    {
     "data": {
      "text/html": [
       "<div>\n",
       "<style scoped>\n",
       "    .dataframe tbody tr th:only-of-type {\n",
       "        vertical-align: middle;\n",
       "    }\n",
       "\n",
       "    .dataframe tbody tr th {\n",
       "        vertical-align: top;\n",
       "    }\n",
       "\n",
       "    .dataframe thead th {\n",
       "        text-align: right;\n",
       "    }\n",
       "</style>\n",
       "<table border=\"1\" class=\"dataframe\">\n",
       "  <thead>\n",
       "    <tr style=\"text-align: right;\">\n",
       "      <th></th>\n",
       "      <th>N</th>\n",
       "      <th>P</th>\n",
       "      <th>K</th>\n",
       "      <th>temperature</th>\n",
       "      <th>humidity</th>\n",
       "      <th>ph</th>\n",
       "      <th>rainfall</th>\n",
       "      <th>label</th>\n",
       "    </tr>\n",
       "  </thead>\n",
       "  <tbody>\n",
       "    <tr>\n",
       "      <th>0</th>\n",
       "      <td>90</td>\n",
       "      <td>42</td>\n",
       "      <td>43</td>\n",
       "      <td>20.879744</td>\n",
       "      <td>82.002744</td>\n",
       "      <td>6.502985</td>\n",
       "      <td>202.935536</td>\n",
       "      <td>rice</td>\n",
       "    </tr>\n",
       "    <tr>\n",
       "      <th>1</th>\n",
       "      <td>85</td>\n",
       "      <td>58</td>\n",
       "      <td>41</td>\n",
       "      <td>21.770462</td>\n",
       "      <td>80.319644</td>\n",
       "      <td>7.038096</td>\n",
       "      <td>226.655537</td>\n",
       "      <td>rice</td>\n",
       "    </tr>\n",
       "    <tr>\n",
       "      <th>2</th>\n",
       "      <td>60</td>\n",
       "      <td>55</td>\n",
       "      <td>44</td>\n",
       "      <td>23.004459</td>\n",
       "      <td>82.320763</td>\n",
       "      <td>7.840207</td>\n",
       "      <td>263.964248</td>\n",
       "      <td>rice</td>\n",
       "    </tr>\n",
       "    <tr>\n",
       "      <th>3</th>\n",
       "      <td>74</td>\n",
       "      <td>35</td>\n",
       "      <td>40</td>\n",
       "      <td>26.491096</td>\n",
       "      <td>80.158363</td>\n",
       "      <td>6.980401</td>\n",
       "      <td>242.864034</td>\n",
       "      <td>rice</td>\n",
       "    </tr>\n",
       "    <tr>\n",
       "      <th>4</th>\n",
       "      <td>78</td>\n",
       "      <td>42</td>\n",
       "      <td>42</td>\n",
       "      <td>20.130175</td>\n",
       "      <td>81.604873</td>\n",
       "      <td>7.628473</td>\n",
       "      <td>262.717340</td>\n",
       "      <td>rice</td>\n",
       "    </tr>\n",
       "  </tbody>\n",
       "</table>\n",
       "</div>"
      ],
      "text/plain": [
       "    N   P   K  temperature   humidity        ph    rainfall label\n",
       "0  90  42  43    20.879744  82.002744  6.502985  202.935536  rice\n",
       "1  85  58  41    21.770462  80.319644  7.038096  226.655537  rice\n",
       "2  60  55  44    23.004459  82.320763  7.840207  263.964248  rice\n",
       "3  74  35  40    26.491096  80.158363  6.980401  242.864034  rice\n",
       "4  78  42  42    20.130175  81.604873  7.628473  262.717340  rice"
      ]
     },
     "execution_count": 2,
     "metadata": {},
     "output_type": "execute_result"
    }
   ],
   "source": [
    "crop = pd.read_csv('Crop_recommendation.csv')\n",
    "crop.head(5)"
   ]
  },
  {
   "cell_type": "code",
   "execution_count": 3,
   "id": "e235c293",
   "metadata": {
    "execution": {
     "iopub.execute_input": "2021-11-23T18:19:15.939836Z",
     "iopub.status.busy": "2021-11-23T18:19:15.939033Z",
     "iopub.status.idle": "2021-11-23T18:19:15.942861Z",
     "shell.execute_reply": "2021-11-23T18:19:15.942241Z",
     "shell.execute_reply.started": "2021-11-23T17:44:00.866881Z"
    },
    "papermill": {
     "duration": 0.063904,
     "end_time": "2021-11-23T18:19:15.942996",
     "exception": false,
     "start_time": "2021-11-23T18:19:15.879092",
     "status": "completed"
    },
    "tags": []
   },
   "outputs": [
    {
     "name": "stdout",
     "output_type": "stream",
     "text": [
      "<class 'pandas.core.frame.DataFrame'>\n",
      "RangeIndex: 2200 entries, 0 to 2199\n",
      "Data columns (total 8 columns):\n",
      " #   Column       Non-Null Count  Dtype  \n",
      "---  ------       --------------  -----  \n",
      " 0   N            2200 non-null   int64  \n",
      " 1   P            2200 non-null   int64  \n",
      " 2   K            2200 non-null   int64  \n",
      " 3   temperature  2200 non-null   float64\n",
      " 4   humidity     2200 non-null   float64\n",
      " 5   ph           2200 non-null   float64\n",
      " 6   rainfall     2200 non-null   float64\n",
      " 7   label        2200 non-null   object \n",
      "dtypes: float64(4), int64(3), object(1)\n",
      "memory usage: 137.6+ KB\n"
     ]
    }
   ],
   "source": [
    "crop.info()"
   ]
  },
  {
   "cell_type": "code",
   "execution_count": 4,
   "id": "305f2260",
   "metadata": {
    "execution": {
     "iopub.execute_input": "2021-11-23T18:19:16.023637Z",
     "iopub.status.busy": "2021-11-23T18:19:16.022723Z",
     "iopub.status.idle": "2021-11-23T18:19:16.052239Z",
     "shell.execute_reply": "2021-11-23T18:19:16.051661Z",
     "shell.execute_reply.started": "2021-11-23T17:44:00.899815Z"
    },
    "papermill": {
     "duration": 0.070616,
     "end_time": "2021-11-23T18:19:16.052370",
     "exception": false,
     "start_time": "2021-11-23T18:19:15.981754",
     "status": "completed"
    },
    "tags": []
   },
   "outputs": [
    {
     "data": {
      "text/html": [
       "<div>\n",
       "<style scoped>\n",
       "    .dataframe tbody tr th:only-of-type {\n",
       "        vertical-align: middle;\n",
       "    }\n",
       "\n",
       "    .dataframe tbody tr th {\n",
       "        vertical-align: top;\n",
       "    }\n",
       "\n",
       "    .dataframe thead th {\n",
       "        text-align: right;\n",
       "    }\n",
       "</style>\n",
       "<table border=\"1\" class=\"dataframe\">\n",
       "  <thead>\n",
       "    <tr style=\"text-align: right;\">\n",
       "      <th></th>\n",
       "      <th>N</th>\n",
       "      <th>P</th>\n",
       "      <th>K</th>\n",
       "      <th>temperature</th>\n",
       "      <th>humidity</th>\n",
       "      <th>ph</th>\n",
       "      <th>rainfall</th>\n",
       "    </tr>\n",
       "  </thead>\n",
       "  <tbody>\n",
       "    <tr>\n",
       "      <th>count</th>\n",
       "      <td>2200.000000</td>\n",
       "      <td>2200.000000</td>\n",
       "      <td>2200.000000</td>\n",
       "      <td>2200.000000</td>\n",
       "      <td>2200.000000</td>\n",
       "      <td>2200.000000</td>\n",
       "      <td>2200.000000</td>\n",
       "    </tr>\n",
       "    <tr>\n",
       "      <th>mean</th>\n",
       "      <td>50.551818</td>\n",
       "      <td>53.362727</td>\n",
       "      <td>48.149091</td>\n",
       "      <td>25.616244</td>\n",
       "      <td>71.481779</td>\n",
       "      <td>6.469480</td>\n",
       "      <td>103.463655</td>\n",
       "    </tr>\n",
       "    <tr>\n",
       "      <th>std</th>\n",
       "      <td>36.917334</td>\n",
       "      <td>32.985883</td>\n",
       "      <td>50.647931</td>\n",
       "      <td>5.063749</td>\n",
       "      <td>22.263812</td>\n",
       "      <td>0.773938</td>\n",
       "      <td>54.958389</td>\n",
       "    </tr>\n",
       "    <tr>\n",
       "      <th>min</th>\n",
       "      <td>0.000000</td>\n",
       "      <td>5.000000</td>\n",
       "      <td>5.000000</td>\n",
       "      <td>8.825675</td>\n",
       "      <td>14.258040</td>\n",
       "      <td>3.504752</td>\n",
       "      <td>20.211267</td>\n",
       "    </tr>\n",
       "    <tr>\n",
       "      <th>25%</th>\n",
       "      <td>21.000000</td>\n",
       "      <td>28.000000</td>\n",
       "      <td>20.000000</td>\n",
       "      <td>22.769375</td>\n",
       "      <td>60.261953</td>\n",
       "      <td>5.971693</td>\n",
       "      <td>64.551686</td>\n",
       "    </tr>\n",
       "    <tr>\n",
       "      <th>50%</th>\n",
       "      <td>37.000000</td>\n",
       "      <td>51.000000</td>\n",
       "      <td>32.000000</td>\n",
       "      <td>25.598693</td>\n",
       "      <td>80.473146</td>\n",
       "      <td>6.425045</td>\n",
       "      <td>94.867624</td>\n",
       "    </tr>\n",
       "    <tr>\n",
       "      <th>75%</th>\n",
       "      <td>84.250000</td>\n",
       "      <td>68.000000</td>\n",
       "      <td>49.000000</td>\n",
       "      <td>28.561654</td>\n",
       "      <td>89.948771</td>\n",
       "      <td>6.923643</td>\n",
       "      <td>124.267508</td>\n",
       "    </tr>\n",
       "    <tr>\n",
       "      <th>max</th>\n",
       "      <td>140.000000</td>\n",
       "      <td>145.000000</td>\n",
       "      <td>205.000000</td>\n",
       "      <td>43.675493</td>\n",
       "      <td>99.981876</td>\n",
       "      <td>9.935091</td>\n",
       "      <td>298.560117</td>\n",
       "    </tr>\n",
       "  </tbody>\n",
       "</table>\n",
       "</div>"
      ],
      "text/plain": [
       "                 N            P            K  temperature     humidity  \\\n",
       "count  2200.000000  2200.000000  2200.000000  2200.000000  2200.000000   \n",
       "mean     50.551818    53.362727    48.149091    25.616244    71.481779   \n",
       "std      36.917334    32.985883    50.647931     5.063749    22.263812   \n",
       "min       0.000000     5.000000     5.000000     8.825675    14.258040   \n",
       "25%      21.000000    28.000000    20.000000    22.769375    60.261953   \n",
       "50%      37.000000    51.000000    32.000000    25.598693    80.473146   \n",
       "75%      84.250000    68.000000    49.000000    28.561654    89.948771   \n",
       "max     140.000000   145.000000   205.000000    43.675493    99.981876   \n",
       "\n",
       "                ph     rainfall  \n",
       "count  2200.000000  2200.000000  \n",
       "mean      6.469480   103.463655  \n",
       "std       0.773938    54.958389  \n",
       "min       3.504752    20.211267  \n",
       "25%       5.971693    64.551686  \n",
       "50%       6.425045    94.867624  \n",
       "75%       6.923643   124.267508  \n",
       "max       9.935091   298.560117  "
      ]
     },
     "execution_count": 4,
     "metadata": {},
     "output_type": "execute_result"
    }
   ],
   "source": [
    "crop.describe()"
   ]
  },
  {
   "cell_type": "code",
   "execution_count": 5,
   "id": "35dc2f2f",
   "metadata": {
    "execution": {
     "iopub.execute_input": "2021-11-23T18:19:16.149126Z",
     "iopub.status.busy": "2021-11-23T18:19:16.148311Z",
     "iopub.status.idle": "2021-11-23T18:19:16.152696Z",
     "shell.execute_reply": "2021-11-23T18:19:16.158673Z",
     "shell.execute_reply.started": "2021-11-23T17:44:00.944642Z"
    },
    "papermill": {
     "duration": 0.066929,
     "end_time": "2021-11-23T18:19:16.158908",
     "exception": false,
     "start_time": "2021-11-23T18:19:16.091979",
     "status": "completed"
    },
    "tags": []
   },
   "outputs": [
    {
     "data": {
      "text/plain": [
       "Index(['N', 'P', 'K', 'temperature', 'humidity', 'ph', 'rainfall', 'label'], dtype='object')"
      ]
     },
     "execution_count": 5,
     "metadata": {},
     "output_type": "execute_result"
    }
   ],
   "source": [
    "crop.columns"
   ]
  },
  {
   "cell_type": "code",
   "execution_count": 6,
   "id": "c1d702c0",
   "metadata": {
    "execution": {
     "iopub.execute_input": "2021-11-23T18:19:16.259459Z",
     "iopub.status.busy": "2021-11-23T18:19:16.258602Z",
     "iopub.status.idle": "2021-11-23T18:19:16.262556Z",
     "shell.execute_reply": "2021-11-23T18:19:16.261950Z",
     "shell.execute_reply.started": "2021-11-23T17:44:00.982123Z"
    },
    "papermill": {
     "duration": 0.050421,
     "end_time": "2021-11-23T18:19:16.262699",
     "exception": false,
     "start_time": "2021-11-23T18:19:16.212278",
     "status": "completed"
    },
    "tags": []
   },
   "outputs": [
    {
     "data": {
      "text/plain": [
       "(2200, 8)"
      ]
     },
     "execution_count": 6,
     "metadata": {},
     "output_type": "execute_result"
    }
   ],
   "source": [
    "crop.shape"
   ]
  },
  {
   "cell_type": "code",
   "execution_count": 7,
   "id": "dbb3ba8b",
   "metadata": {
    "execution": {
     "iopub.execute_input": "2021-11-23T18:19:16.346055Z",
     "iopub.status.busy": "2021-11-23T18:19:16.345135Z",
     "iopub.status.idle": "2021-11-23T18:19:16.350683Z",
     "shell.execute_reply": "2021-11-23T18:19:16.351199Z",
     "shell.execute_reply.started": "2021-11-23T17:44:00.996925Z"
    },
    "papermill": {
     "duration": 0.048243,
     "end_time": "2021-11-23T18:19:16.351368",
     "exception": false,
     "start_time": "2021-11-23T18:19:16.303125",
     "status": "completed"
    },
    "tags": []
   },
   "outputs": [
    {
     "data": {
      "text/plain": [
       "array(['rice', 'maize', 'chickpea', 'kidneybeans', 'pigeonpeas',\n",
       "       'mothbeans', 'mungbean', 'blackgram', 'lentil', 'pomegranate',\n",
       "       'banana', 'mango', 'grapes', 'watermelon', 'muskmelon', 'apple',\n",
       "       'orange', 'papaya', 'coconut', 'cotton', 'jute', 'coffee'],\n",
       "      dtype=object)"
      ]
     },
     "execution_count": 7,
     "metadata": {},
     "output_type": "execute_result"
    }
   ],
   "source": [
    "crop['label'].unique()"
   ]
  },
  {
   "cell_type": "code",
   "execution_count": 8,
   "id": "61b27a30",
   "metadata": {
    "execution": {
     "iopub.execute_input": "2021-11-23T18:19:16.434646Z",
     "iopub.status.busy": "2021-11-23T18:19:16.433693Z",
     "iopub.status.idle": "2021-11-23T18:19:16.439212Z",
     "shell.execute_reply": "2021-11-23T18:19:16.439818Z",
     "shell.execute_reply.started": "2021-11-23T17:44:01.005578Z"
    },
    "papermill": {
     "duration": 0.048549,
     "end_time": "2021-11-23T18:19:16.439985",
     "exception": false,
     "start_time": "2021-11-23T18:19:16.391436",
     "status": "completed"
    },
    "tags": []
   },
   "outputs": [
    {
     "data": {
      "text/plain": [
       "22"
      ]
     },
     "execution_count": 8,
     "metadata": {},
     "output_type": "execute_result"
    }
   ],
   "source": [
    "crop['label'].nunique()"
   ]
  },
  {
   "cell_type": "code",
   "execution_count": 9,
   "id": "ad55de25",
   "metadata": {
    "execution": {
     "iopub.execute_input": "2021-11-23T18:19:16.523892Z",
     "iopub.status.busy": "2021-11-23T18:19:16.523013Z",
     "iopub.status.idle": "2021-11-23T18:19:16.529885Z",
     "shell.execute_reply": "2021-11-23T18:19:16.530409Z",
     "shell.execute_reply.started": "2021-11-23T17:44:01.045928Z"
    },
    "papermill": {
     "duration": 0.050467,
     "end_time": "2021-11-23T18:19:16.530578",
     "exception": false,
     "start_time": "2021-11-23T18:19:16.480111",
     "status": "completed"
    },
    "tags": []
   },
   "outputs": [
    {
     "data": {
      "text/plain": [
       "watermelon     100\n",
       "kidneybeans    100\n",
       "banana         100\n",
       "apple          100\n",
       "orange         100\n",
       "maize          100\n",
       "pomegranate    100\n",
       "mothbeans      100\n",
       "grapes         100\n",
       "chickpea       100\n",
       "mungbean       100\n",
       "jute           100\n",
       "muskmelon      100\n",
       "rice           100\n",
       "coconut        100\n",
       "mango          100\n",
       "pigeonpeas     100\n",
       "blackgram      100\n",
       "cotton         100\n",
       "lentil         100\n",
       "papaya         100\n",
       "coffee         100\n",
       "Name: label, dtype: int64"
      ]
     },
     "execution_count": 9,
     "metadata": {},
     "output_type": "execute_result"
    }
   ],
   "source": [
    "crop['label'].value_counts()"
   ]
  },
  {
   "cell_type": "code",
   "execution_count": 10,
   "id": "f030bd9c",
   "metadata": {
    "execution": {
     "iopub.execute_input": "2021-11-23T18:19:59.442157Z",
     "iopub.status.busy": "2021-11-23T18:19:59.440032Z",
     "iopub.status.idle": "2021-11-23T18:19:59.946022Z",
     "shell.execute_reply": "2021-11-23T18:19:59.945562Z",
     "shell.execute_reply.started": "2021-11-23T17:44:52.008407Z"
    },
    "papermill": {
     "duration": 0.601273,
     "end_time": "2021-11-23T18:19:59.946154",
     "exception": false,
     "start_time": "2021-11-23T18:19:59.344881",
     "status": "completed"
    },
    "tags": []
   },
   "outputs": [
    {
     "data": {
      "image/png": "[encoded data removed]",
      "text/plain": [
       "<Figure size 1080x648 with 2 Axes>"
      ]
     },
     "metadata": {
      "needs_background": "light"
     },
     "output_type": "display_data"
    }
   ],
   "source": [
    "fig, ax = plt.subplots(1, 1, figsize=(15, 9))\n",
    "sns.heatmap(crop.corr(), annot=True,cmap='viridis')\n",
    "ax.set(xlabel='features')\n",
    "ax.set(ylabel='features')\n",
    "\n",
    "plt.title('Correlation between different features', fontsize = 15, c='black')\n",
    "plt.show()"
   ]
  },
  {
   "cell_type": "code",
   "execution_count": 11,
   "id": "5e34d8e1",
   "metadata": {
    "execution": {
     "iopub.execute_input": "2021-11-23T18:20:00.130995Z",
     "iopub.status.busy": "2021-11-23T18:20:00.130043Z",
     "iopub.status.idle": "2021-11-23T18:20:00.161509Z",
     "shell.execute_reply": "2021-11-23T18:20:00.162036Z",
     "shell.execute_reply.started": "2021-11-23T17:44:52.565097Z"
    },
    "papermill": {
     "duration": 0.128799,
     "end_time": "2021-11-23T18:20:00.162213",
     "exception": false,
     "start_time": "2021-11-23T18:20:00.033414",
     "status": "completed"
    },
    "tags": []
   },
   "outputs": [
    {
     "data": {
      "text/html": [
       "<div>\n",
       "<style scoped>\n",
       "    .dataframe tbody tr th:only-of-type {\n",
       "        vertical-align: middle;\n",
       "    }\n",
       "\n",
       "    .dataframe tbody tr th {\n",
       "        vertical-align: top;\n",
       "    }\n",
       "\n",
       "    .dataframe thead th {\n",
       "        text-align: right;\n",
       "    }\n",
       "</style>\n",
       "<table border=\"1\" class=\"dataframe\">\n",
       "  <thead>\n",
       "    <tr style=\"text-align: right;\">\n",
       "      <th></th>\n",
       "      <th>K</th>\n",
       "      <th>N</th>\n",
       "      <th>P</th>\n",
       "      <th>humidity</th>\n",
       "      <th>ph</th>\n",
       "      <th>rainfall</th>\n",
       "      <th>temperature</th>\n",
       "    </tr>\n",
       "    <tr>\n",
       "      <th>label</th>\n",
       "      <th></th>\n",
       "      <th></th>\n",
       "      <th></th>\n",
       "      <th></th>\n",
       "      <th></th>\n",
       "      <th></th>\n",
       "      <th></th>\n",
       "    </tr>\n",
       "  </thead>\n",
       "  <tbody>\n",
       "    <tr>\n",
       "      <th>apple</th>\n",
       "      <td>199.89</td>\n",
       "      <td>20.80</td>\n",
       "      <td>134.22</td>\n",
       "      <td>92.333383</td>\n",
       "      <td>5.929663</td>\n",
       "      <td>112.654779</td>\n",
       "      <td>22.630942</td>\n",
       "    </tr>\n",
       "    <tr>\n",
       "      <th>banana</th>\n",
       "      <td>50.05</td>\n",
       "      <td>100.23</td>\n",
       "      <td>82.01</td>\n",
       "      <td>80.358123</td>\n",
       "      <td>5.983893</td>\n",
       "      <td>104.626980</td>\n",
       "      <td>27.376798</td>\n",
       "    </tr>\n",
       "    <tr>\n",
       "      <th>blackgram</th>\n",
       "      <td>19.24</td>\n",
       "      <td>40.02</td>\n",
       "      <td>67.47</td>\n",
       "      <td>65.118426</td>\n",
       "      <td>7.133952</td>\n",
       "      <td>67.884151</td>\n",
       "      <td>29.973340</td>\n",
       "    </tr>\n",
       "    <tr>\n",
       "      <th>chickpea</th>\n",
       "      <td>79.92</td>\n",
       "      <td>40.09</td>\n",
       "      <td>67.79</td>\n",
       "      <td>16.860439</td>\n",
       "      <td>7.336957</td>\n",
       "      <td>80.058977</td>\n",
       "      <td>18.872847</td>\n",
       "    </tr>\n",
       "    <tr>\n",
       "      <th>coconut</th>\n",
       "      <td>30.59</td>\n",
       "      <td>21.98</td>\n",
       "      <td>16.93</td>\n",
       "      <td>94.844272</td>\n",
       "      <td>5.976562</td>\n",
       "      <td>175.686646</td>\n",
       "      <td>27.409892</td>\n",
       "    </tr>\n",
       "  </tbody>\n",
       "</table>\n",
       "</div>"
      ],
      "text/plain": [
       "                K       N       P   humidity        ph    rainfall  \\\n",
       "label                                                                \n",
       "apple      199.89   20.80  134.22  92.333383  5.929663  112.654779   \n",
       "banana      50.05  100.23   82.01  80.358123  5.983893  104.626980   \n",
       "blackgram   19.24   40.02   67.47  65.118426  7.133952   67.884151   \n",
       "chickpea    79.92   40.09   67.79  16.860439  7.336957   80.058977   \n",
       "coconut     30.59   21.98   16.93  94.844272  5.976562  175.686646   \n",
       "\n",
       "           temperature  \n",
       "label                   \n",
       "apple        22.630942  \n",
       "banana       27.376798  \n",
       "blackgram    29.973340  \n",
       "chickpea     18.872847  \n",
       "coconut      27.409892  "
      ]
     },
     "execution_count": 11,
     "metadata": {},
     "output_type": "execute_result"
    }
   ],
   "source": [
    "crop_summary = pd.pivot_table(crop,index=['label'],aggfunc='mean')\n",
    "crop_summary.head()"
   ]
  },
  {
   "cell_type": "code",
   "execution_count": 12,
   "id": "ca1af388",
   "metadata": {
    "execution": {
     "iopub.execute_input": "2021-11-23T18:20:00.805063Z",
     "iopub.status.busy": "2021-11-23T18:20:00.804112Z",
     "iopub.status.idle": "2021-11-23T18:20:00.810006Z",
     "shell.execute_reply": "2021-11-23T18:20:00.809419Z",
     "shell.execute_reply.started": "2021-11-23T17:44:52.617691Z"
    },
    "papermill": {
     "duration": 0.095782,
     "end_time": "2021-11-23T18:20:00.810139",
     "exception": false,
     "start_time": "2021-11-23T18:20:00.714357",
     "status": "completed"
    },
    "tags": []
   },
   "outputs": [],
   "source": [
    "features = crop[['N', 'P','K','temperature', 'humidity', 'ph', 'rainfall']]\n",
    "target = crop['label']"
   ]
  },
  {
   "cell_type": "code",
   "execution_count": 13,
   "id": "fc67cb84",
   "metadata": {
    "execution": {
     "iopub.execute_input": "2021-11-23T18:20:00.987112Z",
     "iopub.status.busy": "2021-11-23T18:20:00.986468Z",
     "iopub.status.idle": "2021-11-23T18:20:00.987893Z",
     "shell.execute_reply": "2021-11-23T18:20:00.988330Z",
     "shell.execute_reply.started": "2021-11-23T17:44:52.628Z"
    },
    "papermill": {
     "duration": 0.092221,
     "end_time": "2021-11-23T18:20:00.988517",
     "exception": false,
     "start_time": "2021-11-23T18:20:00.896296",
     "status": "completed"
    },
    "tags": []
   },
   "outputs": [],
   "source": [
    "acc = []\n",
    "model = []"
   ]
  },
  {
   "cell_type": "code",
   "execution_count": 14,
   "id": "80564906",
   "metadata": {
    "execution": {
     "iopub.execute_input": "2021-11-23T18:20:01.166204Z",
     "iopub.status.busy": "2021-11-23T18:20:01.165249Z",
     "iopub.status.idle": "2021-11-23T18:20:01.173058Z",
     "shell.execute_reply": "2021-11-23T18:20:01.172477Z",
     "shell.execute_reply.started": "2021-11-23T17:44:52.638747Z"
    },
    "papermill": {
     "duration": 0.098457,
     "end_time": "2021-11-23T18:20:01.173207",
     "exception": false,
     "start_time": "2021-11-23T18:20:01.074750",
     "status": "completed"
    },
    "tags": []
   },
   "outputs": [],
   "source": [
    "from sklearn.model_selection import train_test_split\n",
    "x_train, x_test, y_train, y_test = train_test_split(features,target,test_size = 0.2,random_state =2)"
   ]
  },
  {
   "cell_type": "markdown",
   "id": "3f17bd30",
   "metadata": {
    "papermill": {
     "duration": 0.11172,
     "end_time": "2021-11-23T18:20:01.542949",
     "exception": false,
     "start_time": "2021-11-23T18:20:01.431229",
     "status": "completed"
    },
    "tags": []
   },
   "source": [
    " <a id=\"5.1\"></a>\n",
    "# <p style=\"background-color:#44d180;font-family:roboto;color:#0a0a0b;font-size:120%;text-align:center;border-radius:60px 40px;\">K-Nearest Neighbors</p>"
   ]
  },
  {
   "cell_type": "code",
   "execution_count": 15,
   "id": "8b82376b",
   "metadata": {
    "execution": {
     "iopub.execute_input": "2021-11-23T18:20:01.720217Z",
     "iopub.status.busy": "2021-11-23T18:20:01.719277Z",
     "iopub.status.idle": "2021-11-23T18:20:01.763137Z",
     "shell.execute_reply": "2021-11-23T18:20:01.762317Z",
     "shell.execute_reply.started": "2021-11-23T17:44:52.655211Z"
    },
    "papermill": {
     "duration": 0.132819,
     "end_time": "2021-11-23T18:20:01.763329",
     "exception": false,
     "start_time": "2021-11-23T18:20:01.630510",
     "status": "completed"
    },
    "tags": []
   },
   "outputs": [
    {
     "name": "stdout",
     "output_type": "stream",
     "text": [
      "KNN Accuracy is:  0.975\n",
      "              precision    recall  f1-score   support\n",
      "\n",
      "       apple       1.00      1.00      1.00        13\n",
      "      banana       1.00      1.00      1.00        17\n",
      "   blackgram       0.94      1.00      0.97        16\n",
      "    chickpea       1.00      1.00      1.00        21\n",
      "     coconut       1.00      1.00      1.00        21\n",
      "      coffee       1.00      1.00      1.00        22\n",
      "      cotton       0.95      1.00      0.98        20\n",
      "      grapes       1.00      1.00      1.00        18\n",
      "        jute       0.89      0.86      0.87        28\n",
      " kidneybeans       0.93      1.00      0.97        14\n",
      "      lentil       0.96      1.00      0.98        23\n",
      "       maize       1.00      0.95      0.98        21\n",
      "       mango       1.00      1.00      1.00        26\n",
      "   mothbeans       1.00      0.89      0.94        19\n",
      "    mungbean       1.00      1.00      1.00        24\n",
      "   muskmelon       1.00      1.00      1.00        23\n",
      "      orange       1.00      1.00      1.00        29\n",
      "      papaya       1.00      1.00      1.00        19\n",
      "  pigeonpeas       1.00      0.94      0.97        18\n",
      " pomegranate       1.00      1.00      1.00        17\n",
      "        rice       0.76      0.81      0.79        16\n",
      "  watermelon       1.00      1.00      1.00        15\n",
      "\n",
      "    accuracy                           0.97       440\n",
      "   macro avg       0.97      0.98      0.97       440\n",
      "weighted avg       0.98      0.97      0.98       440\n",
      "\n"
     ]
    }
   ],
   "source": [
    "from sklearn.neighbors import KNeighborsClassifier\n",
    "knn = KNeighborsClassifier()\n",
    "\n",
    "knn.fit(x_train,y_train)\n",
    "\n",
    "predicted_values = knn.predict(x_test)\n",
    "\n",
    "x = metrics.accuracy_score(y_test, predicted_values)\n",
    "acc.append(x)\n",
    "model.append('K Nearest Neighbours')\n",
    "print(\"KNN Accuracy is: \", x)\n",
    "\n",
    "print(classification_report(y_test,predicted_values))"
   ]
  },
  {
   "cell_type": "code",
   "execution_count": 16,
   "id": "9c53c0ec",
   "metadata": {
    "execution": {
     "iopub.execute_input": "2021-11-23T18:20:01.944138Z",
     "iopub.status.busy": "2021-11-23T18:20:01.942640Z",
     "iopub.status.idle": "2021-11-23T18:20:02.056241Z",
     "shell.execute_reply": "2021-11-23T18:20:02.057109Z",
     "shell.execute_reply.started": "2021-11-23T17:44:52.73472Z"
    },
    "papermill": {
     "duration": 0.206868,
     "end_time": "2021-11-23T18:20:02.057407",
     "exception": false,
     "start_time": "2021-11-23T18:20:01.850539",
     "status": "completed"
    },
    "tags": []
   },
   "outputs": [
    {
     "name": "stdout",
     "output_type": "stream",
     "text": [
      "Cross validation score:  [0.97727273 0.98181818 0.97954545 0.97954545 0.97954545]\n"
     ]
    }
   ],
   "source": [
    "score = cross_val_score(knn,features,target,cv=5)\n",
    "print('Cross validation score: ',score)"
   ]
  },
  {
   "cell_type": "code",
   "execution_count": 17,
   "id": "c6c9cc1a",
   "metadata": {
    "execution": {
     "iopub.execute_input": "2021-11-23T18:20:02.237331Z",
     "iopub.status.busy": "2021-11-23T18:20:02.236430Z",
     "iopub.status.idle": "2021-11-23T18:20:02.383086Z",
     "shell.execute_reply": "2021-11-23T18:20:02.383568Z",
     "shell.execute_reply.started": "2021-11-23T17:44:52.89616Z"
    },
    "papermill": {
     "duration": 0.236857,
     "end_time": "2021-11-23T18:20:02.383734",
     "exception": false,
     "start_time": "2021-11-23T18:20:02.146877",
     "status": "completed"
    },
    "tags": []
   },
   "outputs": [
    {
     "name": "stdout",
     "output_type": "stream",
     "text": [
      "knn_train_accuracy =  0.9886363636363636\n",
      "knn_test_accuracy =  0.975\n"
     ]
    }
   ],
   "source": [
    "#Print Train Accuracy\n",
    "knn_train_accuracy = knn.score(x_train,y_train)\n",
    "print(\"knn_train_accuracy = \",knn.score(x_train,y_train))\n",
    "#Print Test Accuracy\n",
    "knn_test_accuracy = knn.score(x_test,y_test)\n",
    "print(\"knn_test_accuracy = \",knn.score(x_test,y_test))"
   ]
  },
  {
   "cell_type": "code",
   "execution_count": 18,
   "id": "c5554921",
   "metadata": {
    "execution": {
     "iopub.execute_input": "2021-11-23T18:20:11.463071Z",
     "iopub.status.busy": "2021-11-23T18:20:11.462431Z",
     "iopub.status.idle": "2021-11-23T18:20:11.511072Z",
     "shell.execute_reply": "2021-11-23T18:20:11.511646Z",
     "shell.execute_reply.started": "2021-11-23T17:45:00.504377Z"
    },
    "papermill": {
     "duration": 0.145892,
     "end_time": "2021-11-23T18:20:11.511822",
     "exception": false,
     "start_time": "2021-11-23T18:20:11.365930",
     "status": "completed"
    },
    "tags": []
   },
   "outputs": [
    {
     "name": "stdout",
     "output_type": "stream",
     "text": [
      "Decision Tree's Accuracy is:  90.0\n",
      "              precision    recall  f1-score   support\n",
      "\n",
      "       apple       1.00      1.00      1.00        13\n",
      "      banana       1.00      1.00      1.00        17\n",
      "   blackgram       0.59      1.00      0.74        16\n",
      "    chickpea       1.00      1.00      1.00        21\n",
      "     coconut       0.91      1.00      0.95        21\n",
      "      coffee       1.00      1.00      1.00        22\n",
      "      cotton       1.00      1.00      1.00        20\n",
      "      grapes       1.00      1.00      1.00        18\n",
      "        jute       0.74      0.93      0.83        28\n",
      " kidneybeans       0.00      0.00      0.00        14\n",
      "      lentil       0.68      1.00      0.81        23\n",
      "       maize       1.00      1.00      1.00        21\n",
      "       mango       1.00      1.00      1.00        26\n",
      "   mothbeans       0.00      0.00      0.00        19\n",
      "    mungbean       1.00      1.00      1.00        24\n",
      "   muskmelon       1.00      1.00      1.00        23\n",
      "      orange       1.00      1.00      1.00        29\n",
      "      papaya       1.00      0.84      0.91        19\n",
      "  pigeonpeas       0.62      1.00      0.77        18\n",
      " pomegranate       1.00      1.00      1.00        17\n",
      "        rice       1.00      0.62      0.77        16\n",
      "  watermelon       1.00      1.00      1.00        15\n",
      "\n",
      "    accuracy                           0.90       440\n",
      "   macro avg       0.84      0.88      0.85       440\n",
      "weighted avg       0.86      0.90      0.87       440\n",
      "\n"
     ]
    }
   ],
   "source": [
    "from sklearn.tree import DecisionTreeClassifier\n",
    "DT = DecisionTreeClassifier(criterion=\"entropy\",random_state=2,max_depth=5)\n",
    "\n",
    "DT.fit(x_train,y_train)\n",
    "\n",
    "predicted_values = DT.predict(x_test)\n",
    "x = metrics.accuracy_score(y_test, predicted_values)\n",
    "acc.append(x)\n",
    "model.append('Decision Tree')\n",
    "print(\"Decision Tree's Accuracy is: \", x*100)\n",
    "\n",
    "print(classification_report(y_test,predicted_values))"
   ]
  },
  {
   "cell_type": "code",
   "execution_count": 19,
   "id": "edffe5c1",
   "metadata": {
    "execution": {
     "iopub.execute_input": "2021-11-23T18:20:11.702000Z",
     "iopub.status.busy": "2021-11-23T18:20:11.701446Z",
     "iopub.status.idle": "2021-11-23T18:20:11.839832Z",
     "shell.execute_reply": "2021-11-23T18:20:11.840312Z",
     "shell.execute_reply.started": "2021-11-23T17:45:00.562551Z"
    },
    "papermill": {
     "duration": 0.234361,
     "end_time": "2021-11-23T18:20:11.840497",
     "exception": false,
     "start_time": "2021-11-23T18:20:11.606136",
     "status": "completed"
    },
    "tags": []
   },
   "outputs": [
    {
     "name": "stdout",
     "output_type": "stream",
     "text": [
      "Cross validation score:  [0.93636364 0.90909091 0.91818182 0.87045455 0.93636364]\n"
     ]
    }
   ],
   "source": [
    "score = cross_val_score(DT, features, target,cv=5)\n",
    "print('Cross validation score: ',score)"
   ]
  },
  {
   "cell_type": "code",
   "execution_count": 20,
   "id": "3b0971c4",
   "metadata": {
    "execution": {
     "iopub.execute_input": "2021-11-23T18:20:12.033466Z",
     "iopub.status.busy": "2021-11-23T18:20:12.032867Z",
     "iopub.status.idle": "2021-11-23T18:20:12.046693Z",
     "shell.execute_reply": "2021-11-23T18:20:12.045996Z",
     "shell.execute_reply.started": "2021-11-23T17:45:00.72184Z"
    },
    "papermill": {
     "duration": 0.112591,
     "end_time": "2021-11-23T18:20:12.046878",
     "exception": false,
     "start_time": "2021-11-23T18:20:11.934287",
     "status": "completed"
    },
    "tags": []
   },
   "outputs": [
    {
     "name": "stdout",
     "output_type": "stream",
     "text": [
      "Training accuracy =  0.8818181818181818\n",
      "Testing accuracy =  0.9\n"
     ]
    }
   ],
   "source": [
    "#Print Train Accuracy\n",
    "dt_train_accuracy = DT.score(x_train,y_train)\n",
    "print(\"Training accuracy = \",DT.score(x_train,y_train))\n",
    "#Print Test Accuracy\n",
    "dt_test_accuracy = DT.score(x_test,y_test)\n",
    "print(\"Testing accuracy = \",DT.score(x_test,y_test))"
   ]
  },
  {
   "cell_type": "markdown",
   "id": "58bfb560",
   "metadata": {
    "papermill": {
     "duration": 0.102322,
     "end_time": "2021-11-23T18:20:14.180954",
     "exception": false,
     "start_time": "2021-11-23T18:20:14.078632",
     "status": "completed"
    },
    "tags": []
   },
   "source": [
    " <a id=\"5.3\"></a>\n",
    "# <p style=\"background-color:#44d180;font-family:roboto;color:#0a0a0b;font-size:150%;text-align:center;border-radius:60px 40px;\">Random Forest</p>"
   ]
  },
  {
   "cell_type": "code",
   "execution_count": 21,
   "id": "0f31ca98",
   "metadata": {
    "execution": {
     "iopub.execute_input": "2021-11-23T18:20:14.377598Z",
     "iopub.status.busy": "2021-11-23T18:20:14.376958Z",
     "iopub.status.idle": "2021-11-23T18:20:14.498542Z",
     "shell.execute_reply": "2021-11-23T18:20:14.497619Z",
     "shell.execute_reply.started": "2021-11-23T17:45:02.804464Z"
    },
    "papermill": {
     "duration": 0.219232,
     "end_time": "2021-11-23T18:20:14.498782",
     "exception": false,
     "start_time": "2021-11-23T18:20:14.279550",
     "status": "completed"
    },
    "tags": []
   },
   "outputs": [
    {
     "name": "stdout",
     "output_type": "stream",
     "text": [
      "Random Forest Accuracy is:  0.990909090909091\n",
      "              precision    recall  f1-score   support\n",
      "\n",
      "       apple       1.00      1.00      1.00        13\n",
      "      banana       1.00      1.00      1.00        17\n",
      "   blackgram       0.94      1.00      0.97        16\n",
      "    chickpea       1.00      1.00      1.00        21\n",
      "     coconut       1.00      1.00      1.00        21\n",
      "      coffee       1.00      1.00      1.00        22\n",
      "      cotton       1.00      1.00      1.00        20\n",
      "      grapes       1.00      1.00      1.00        18\n",
      "        jute       0.90      1.00      0.95        28\n",
      " kidneybeans       1.00      1.00      1.00        14\n",
      "      lentil       1.00      1.00      1.00        23\n",
      "       maize       1.00      1.00      1.00        21\n",
      "       mango       1.00      1.00      1.00        26\n",
      "   mothbeans       1.00      0.95      0.97        19\n",
      "    mungbean       1.00      1.00      1.00        24\n",
      "   muskmelon       1.00      1.00      1.00        23\n",
      "      orange       1.00      1.00      1.00        29\n",
      "      papaya       1.00      1.00      1.00        19\n",
      "  pigeonpeas       1.00      1.00      1.00        18\n",
      " pomegranate       1.00      1.00      1.00        17\n",
      "        rice       1.00      0.81      0.90        16\n",
      "  watermelon       1.00      1.00      1.00        15\n",
      "\n",
      "    accuracy                           0.99       440\n",
      "   macro avg       0.99      0.99      0.99       440\n",
      "weighted avg       0.99      0.99      0.99       440\n",
      "\n"
     ]
    }
   ],
   "source": [
    "from sklearn.ensemble import RandomForestClassifier\n",
    "\n",
    "RF = RandomForestClassifier(n_estimators=20, random_state=0)\n",
    "RF.fit(x_train,y_train)\n",
    "\n",
    "predicted_values = RF.predict(x_test)\n",
    "\n",
    "x = metrics.accuracy_score(y_test, predicted_values)\n",
    "acc.append(x)\n",
    "model.append('RF')\n",
    "print(\"Random Forest Accuracy is: \", x)\n",
    "\n",
    "print(classification_report(y_test,predicted_values))"
   ]
  },
  {
   "cell_type": "code",
   "execution_count": 22,
   "id": "4b3338c1",
   "metadata": {
    "execution": {
     "iopub.execute_input": "2021-11-23T18:20:14.707174Z",
     "iopub.status.busy": "2021-11-23T18:20:14.706265Z",
     "iopub.status.idle": "2021-11-23T18:20:15.104828Z",
     "shell.execute_reply": "2021-11-23T18:20:15.104273Z",
     "shell.execute_reply.started": "2021-11-23T17:45:02.935698Z"
    },
    "papermill": {
     "duration": 0.499434,
     "end_time": "2021-11-23T18:20:15.104970",
     "exception": false,
     "start_time": "2021-11-23T18:20:14.605536",
     "status": "completed"
    },
    "tags": []
   },
   "outputs": [
    {
     "name": "stdout",
     "output_type": "stream",
     "text": [
      "Cross validation score:  [0.99772727 0.99545455 0.99772727 0.99318182 0.98863636]\n"
     ]
    }
   ],
   "source": [
    "score = cross_val_score(RF,features,target,cv=5)\n",
    "print('Cross validation score: ',score)"
   ]
  },
  {
   "cell_type": "code",
   "execution_count": 23,
   "id": "3028666f",
   "metadata": {
    "execution": {
     "iopub.execute_input": "2021-11-23T18:20:15.298168Z",
     "iopub.status.busy": "2021-11-23T18:20:15.297600Z",
     "iopub.status.idle": "2021-11-23T18:20:15.338756Z",
     "shell.execute_reply": "2021-11-23T18:20:15.338115Z",
     "shell.execute_reply.started": "2021-11-23T17:45:03.416255Z"
    },
    "papermill": {
     "duration": 0.138817,
     "end_time": "2021-11-23T18:20:15.338909",
     "exception": false,
     "start_time": "2021-11-23T18:20:15.200092",
     "status": "completed"
    },
    "tags": []
   },
   "outputs": [
    {
     "name": "stdout",
     "output_type": "stream",
     "text": [
      "Training accuracy =  1.0\n",
      "Testing accuracy =  0.990909090909091\n"
     ]
    }
   ],
   "source": [
    "#Print Train Accuracy\n",
    "rf_train_accuracy = RF.score(x_train,y_train)\n",
    "print(\"Training accuracy = \",RF.score(x_train,y_train))\n",
    "#Print Test Accuracy\n",
    "rf_test_accuracy = RF.score(x_test,y_test)\n",
    "print(\"Testing accuracy = \",RF.score(x_test,y_test))"
   ]
  },
  {
   "cell_type": "markdown",
   "id": "17f80722",
   "metadata": {
    "papermill": {
     "duration": 0.100796,
     "end_time": "2021-11-23T18:20:17.594812",
     "exception": false,
     "start_time": "2021-11-23T18:20:17.494016",
     "status": "completed"
    },
    "tags": []
   },
   "source": [
    " <a id=\"5.4\"></a>\n",
    "# <p style=\"background-color:#44d180;font-family:roboto;color:#0a0a0b;font-size:150%;text-align:center;border-radius:60px 40px;\">Naive Bayes Classifier</p>"
   ]
  },
  {
   "cell_type": "code",
   "execution_count": 24,
   "id": "2e5b460a",
   "metadata": {
    "execution": {
     "iopub.execute_input": "2021-11-23T18:20:17.796935Z",
     "iopub.status.busy": "2021-11-23T18:20:17.795867Z",
     "iopub.status.idle": "2021-11-23T18:20:17.821138Z",
     "shell.execute_reply": "2021-11-23T18:20:17.820642Z",
     "shell.execute_reply.started": "2021-11-23T17:45:05.624619Z"
    },
    "papermill": {
     "duration": 0.128321,
     "end_time": "2021-11-23T18:20:17.821267",
     "exception": false,
     "start_time": "2021-11-23T18:20:17.692946",
     "status": "completed"
    },
    "tags": []
   },
   "outputs": [
    {
     "name": "stdout",
     "output_type": "stream",
     "text": [
      "Naive Bayes Accuracy is:  0.990909090909091\n",
      "              precision    recall  f1-score   support\n",
      "\n",
      "       apple       1.00      1.00      1.00        13\n",
      "      banana       1.00      1.00      1.00        17\n",
      "   blackgram       1.00      1.00      1.00        16\n",
      "    chickpea       1.00      1.00      1.00        21\n",
      "     coconut       1.00      1.00      1.00        21\n",
      "      coffee       1.00      1.00      1.00        22\n",
      "      cotton       1.00      1.00      1.00        20\n",
      "      grapes       1.00      1.00      1.00        18\n",
      "        jute       0.88      1.00      0.93        28\n",
      " kidneybeans       1.00      1.00      1.00        14\n",
      "      lentil       1.00      1.00      1.00        23\n",
      "       maize       1.00      1.00      1.00        21\n",
      "       mango       1.00      1.00      1.00        26\n",
      "   mothbeans       1.00      1.00      1.00        19\n",
      "    mungbean       1.00      1.00      1.00        24\n",
      "   muskmelon       1.00      1.00      1.00        23\n",
      "      orange       1.00      1.00      1.00        29\n",
      "      papaya       1.00      1.00      1.00        19\n",
      "  pigeonpeas       1.00      1.00      1.00        18\n",
      " pomegranate       1.00      1.00      1.00        17\n",
      "        rice       1.00      0.75      0.86        16\n",
      "  watermelon       1.00      1.00      1.00        15\n",
      "\n",
      "    accuracy                           0.99       440\n",
      "   macro avg       0.99      0.99      0.99       440\n",
      "weighted avg       0.99      0.99      0.99       440\n",
      "\n"
     ]
    }
   ],
   "source": [
    "from sklearn.naive_bayes import GaussianNB\n",
    "NaiveBayes = GaussianNB()\n",
    "\n",
    "NaiveBayes.fit(x_train,y_train)\n",
    "\n",
    "predicted_values = NaiveBayes.predict(x_test)\n",
    "x = metrics.accuracy_score(y_test, predicted_values)\n",
    "acc.append(x)\n",
    "model.append('Naive Bayes')\n",
    "print(\"Naive Bayes Accuracy is: \", x)\n",
    "\n",
    "print(classification_report(y_test,predicted_values))"
   ]
  },
  {
   "cell_type": "code",
   "execution_count": 25,
   "id": "2fa9e51d",
   "metadata": {
    "execution": {
     "iopub.execute_input": "2021-11-23T18:20:18.021107Z",
     "iopub.status.busy": "2021-11-23T18:20:18.020437Z",
     "iopub.status.idle": "2021-11-23T18:20:18.074038Z",
     "shell.execute_reply": "2021-11-23T18:20:18.073378Z",
     "shell.execute_reply.started": "2021-11-23T17:45:05.662456Z"
    },
    "papermill": {
     "duration": 0.155598,
     "end_time": "2021-11-23T18:20:18.074179",
     "exception": false,
     "start_time": "2021-11-23T18:20:17.918581",
     "status": "completed"
    },
    "tags": []
   },
   "outputs": [
    {
     "name": "stdout",
     "output_type": "stream",
     "text": [
      "Cross validation score:  [0.99772727 0.99545455 0.99545455 0.99545455 0.99090909]\n"
     ]
    }
   ],
   "source": [
    "score = cross_val_score(NaiveBayes,features,target,cv=5)\n",
    "print('Cross validation score: ',score)"
   ]
  },
  {
   "cell_type": "code",
   "execution_count": 26,
   "id": "eb04d923",
   "metadata": {
    "execution": {
     "iopub.execute_input": "2021-11-23T18:20:18.274257Z",
     "iopub.status.busy": "2021-11-23T18:20:18.273670Z",
     "iopub.status.idle": "2021-11-23T18:20:18.293750Z",
     "shell.execute_reply": "2021-11-23T18:20:18.294459Z",
     "shell.execute_reply.started": "2021-11-23T17:45:05.743428Z"
    },
    "papermill": {
     "duration": 0.121434,
     "end_time": "2021-11-23T18:20:18.294682",
     "exception": false,
     "start_time": "2021-11-23T18:20:18.173248",
     "status": "completed"
    },
    "tags": []
   },
   "outputs": [
    {
     "name": "stdout",
     "output_type": "stream",
     "text": [
      "Training accuracy =  0.9960227272727272\n",
      "Testing accuracy =  0.990909090909091\n"
     ]
    }
   ],
   "source": [
    "#Print Train Accuracy\n",
    "nb_train_accuracy = NaiveBayes.score(x_train,y_train)\n",
    "print(\"Training accuracy = \",NaiveBayes.score(x_train,y_train))\n",
    "#Print Test Accuracy\n",
    "nb_test_accuracy = NaiveBayes.score(x_test,y_test)\n",
    "print(\"Testing accuracy = \",NaiveBayes.score(x_test,y_test))"
   ]
  },
  {
   "cell_type": "markdown",
   "id": "095ace22",
   "metadata": {
    "execution": {
     "iopub.execute_input": "2021-11-23T16:45:50.663656Z",
     "iopub.status.busy": "2021-11-23T16:45:50.662559Z",
     "iopub.status.idle": "2021-11-23T16:45:50.667869Z",
     "shell.execute_reply": "2021-11-23T16:45:50.667007Z",
     "shell.execute_reply.started": "2021-11-23T16:45:50.663606Z"
    },
    "papermill": {
     "duration": 0.105171,
     "end_time": "2021-11-23T18:20:29.457223",
     "exception": false,
     "start_time": "2021-11-23T18:20:29.352052",
     "status": "completed"
    },
    "tags": []
   },
   "source": [
    " <a id=\"6\"></a>\n",
    "# <p style=\"background-color:#44d180;font-family:roboto;color:#0a0a0b;font-size:150%;text-align:center;border-radius:60px 40px;\">Accuracy comparison</p>"
   ]
  },
  {
   "cell_type": "code",
   "execution_count": 27,
   "id": "a635081b",
   "metadata": {
    "execution": {
     "iopub.execute_input": "2021-11-23T18:20:29.675901Z",
     "iopub.status.busy": "2021-11-23T18:20:29.675243Z",
     "iopub.status.idle": "2021-11-23T18:20:30.668525Z",
     "shell.execute_reply": "2021-11-23T18:20:30.667965Z",
     "shell.execute_reply.started": "2021-11-23T17:45:15.488732Z"
    },
    "papermill": {
     "duration": 1.103113,
     "end_time": "2021-11-23T18:20:30.668679",
     "exception": false,
     "start_time": "2021-11-23T18:20:29.565566",
     "status": "completed"
    },
    "tags": []
   },
   "outputs": [
    {
     "data": {
      "image/png": "[encoded data removed]",
      "text/plain": [
       "<Figure size 1400x700 with 1 Axes>"
      ]
     },
     "metadata": {},
     "output_type": "display_data"
    }
   ],
   "source": [
    "plt.figure(figsize=[14,7],dpi = 100, facecolor='white')\n",
    "plt.title('Accuracy Comparison')\n",
    "plt.xlabel('Accuracy')\n",
    "plt.ylabel('ML Algorithms')\n",
    "sns.barplot(x = acc,y = model,palette='viridis')\n",
    "plt.savefig('plot.png', dpi=300, bbox_inches='tight')"
   ]
  },
  {
   "cell_type": "code",
   "execution_count": 28,
   "id": "01057cf6",
   "metadata": {
    "execution": {
     "iopub.execute_input": "2021-11-23T18:20:30.897742Z",
     "iopub.status.busy": "2021-11-23T18:20:30.896994Z",
     "iopub.status.idle": "2021-11-23T18:20:31.166214Z",
     "shell.execute_reply": "2021-11-23T18:20:31.165615Z",
     "shell.execute_reply.started": "2021-11-23T17:45:38.696686Z"
    },
    "papermill": {
     "duration": 0.389535,
     "end_time": "2021-11-23T18:20:31.166363",
     "exception": false,
     "start_time": "2021-11-23T18:20:30.776828",
     "status": "completed"
    },
    "tags": []
   },
   "outputs": [
    {
     "data": {
      "image/png": "[encoded data removed]",
      "text/plain": [
       "<Figure size 1440x504 with 1 Axes>"
      ]
     },
     "metadata": {
      "needs_background": "light"
     },
     "output_type": "display_data"
    }
   ],
   "source": [
    "label = ['KNN', 'Decision Tree','Random Forest','Naive Bayes']\n",
    "Test = [knn_test_accuracy, dt_test_accuracy,rf_test_accuracy,\n",
    "        nb_test_accuracy]\n",
    "Train = [knn_train_accuracy,  dt_train_accuracy, rf_train_accuracy,\n",
    "         nb_train_accuracy]\n",
    "\n",
    "f, ax = plt.subplots(figsize=(20,7)) # set the size that you'd like (width, height)\n",
    "X_axis = np.arange(len(label))\n",
    "plt.bar(X_axis - 0.2,Test, 0.4, label = 'Test', color=('midnightblue'))\n",
    "plt.bar(X_axis + 0.2,Train, 0.4, label = 'Train', color=('mediumaquamarine'))\n",
    "\n",
    "plt.xticks(X_axis, label)\n",
    "plt.xlabel(\"ML algorithms\")\n",
    "plt.ylabel(\"Accuracy\")\n",
    "plt.title(\"Testing vs Training Accuracy\")\n",
    "plt.legend()\n",
    "#plt.savefig('train vs test.png')\n",
    "plt.show()"
   ]
  },
  {
   "cell_type": "code",
   "execution_count": 31,
   "id": "12d44259",
   "metadata": {
    "papermill": {
     "duration": 0.106762,
     "end_time": "2021-11-23T18:20:31.380423",
     "exception": false,
     "start_time": "2021-11-23T18:20:31.273661",
     "status": "completed"
    },
    "tags": []
   },
   "outputs": [
    {
     "name": "stdout",
     "output_type": "stream",
     "text": [
      "      N     P     K         pH  TEMPERATURE   HUMIDITY    RAINFALL\n",
      "0  90.0  42.0  43.0  20.879744    20.879744  82.002744  202.935536\n"
     ]
    }
   ],
   "source": [
    " \n",
    "potassium =  43\n",
    "phosphorous =  42\n",
    "nitrogen =  90\n",
    "pH =20.87974371 \n",
    "temperature = 20.87974371 \n",
    "Humidity =  82.00274423\n",
    "Rainfall = 202.9355362 \n",
    "columns = ['N','P','K','pH','TEMPERATURE','HUMIDITY','RAINFALL'] \n",
    "values = np.array([ nitrogen ,phosphorous ,potassium ,   pH , temperature,Humidity,Rainfall])\n",
    "pred = pd.DataFrame(values.reshape(-1, len(values)),columns=columns)\n",
    "print(pred)"
   ]
  },
  {
   "cell_type": "code",
   "execution_count": 34,
   "id": "roman-directory",
   "metadata": {},
   "outputs": [
    {
     "data": {
      "text/plain": [
       "'coffee'"
      ]
     },
     "execution_count": 34,
     "metadata": {},
     "output_type": "execute_result"
    }
   ],
   "source": [
    "predicted_values = knn.predict(pred)\n",
    "predicted_values[0]"
   ]
  },
  {
   "cell_type": "code",
   "execution_count": null,
   "id": "brave-equality",
   "metadata": {},
   "outputs": [],
   "source": []
  }
 ],
 "metadata": {
  "kernelspec": {
   "display_name": "Python 3 (ipykernel)",
   "language": "python",
   "name": "python3"
  },
  "language_info": {
   "codemirror_mode": {
    "name": "ipython",
    "version": 3
   },
   "file_extension": ".py",
   "mimetype": "text/x-python",
   "name": "python",
   "nbconvert_exporter": "python",
   "pygments_lexer": "ipython3",
   "version": "3.7.9"
  },
  "papermill": {
   "default_parameters": {},
   "duration": 87.659296,
   "end_time": "2021-11-23T18:20:32.800875",
   "environment_variables": {},
   "exception": null,
   "input_path": "__notebook__.ipynb",
   "output_path": "__notebook__.ipynb",
   "parameters": {},
   "start_time": "2021-11-23T18:19:05.141579",
   "version": "2.3.3"
  }
 },
 "nbformat": 4,
 "nbformat_minor": 5
}
